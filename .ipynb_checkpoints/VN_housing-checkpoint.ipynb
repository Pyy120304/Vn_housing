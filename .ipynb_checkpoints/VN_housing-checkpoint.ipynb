{
 "cells": [
  {
   "cell_type": "code",
   "execution_count": 333,
   "id": "9dd78283",
   "metadata": {},
   "outputs": [],
   "source": [
    "from __future__ import division, print_function, unicode_literals\n",
    "import numpy as np \n",
    "import matplotlib.pyplot as plt\n",
    "from sklearn import *\n",
    "from sklearn.metrics import mean_absolute_error\n",
    "import pandas as pd\n",
    "import re\n",
    "import math\n",
    "import matplotlib.pyplot as plt\n",
    "import seaborn as sns"
   ]
  },
  {
   "cell_type": "code",
   "execution_count": 334,
   "id": "6aa858a6",
   "metadata": {},
   "outputs": [
    {
     "data": {
      "text/html": [
       "<div>\n",
       "<style scoped>\n",
       "    .dataframe tbody tr th:only-of-type {\n",
       "        vertical-align: middle;\n",
       "    }\n",
       "\n",
       "    .dataframe tbody tr th {\n",
       "        vertical-align: top;\n",
       "    }\n",
       "\n",
       "    .dataframe thead th {\n",
       "        text-align: right;\n",
       "    }\n",
       "</style>\n",
       "<table border=\"1\" class=\"dataframe\">\n",
       "  <thead>\n",
       "    <tr style=\"text-align: right;\">\n",
       "      <th></th>\n",
       "      <th>Unnamed: 0</th>\n",
       "      <th>Ngày</th>\n",
       "      <th>Địa chỉ</th>\n",
       "      <th>Quận</th>\n",
       "      <th>Huyện</th>\n",
       "      <th>Loại hình nhà ở</th>\n",
       "      <th>Giấy tờ pháp lý</th>\n",
       "      <th>Số tầng</th>\n",
       "      <th>Số phòng ngủ</th>\n",
       "      <th>Diện tích</th>\n",
       "      <th>Dài</th>\n",
       "      <th>Rộng</th>\n",
       "      <th>Giá/m2</th>\n",
       "    </tr>\n",
       "  </thead>\n",
       "  <tbody>\n",
       "    <tr>\n",
       "      <th>0</th>\n",
       "      <td>0.0</td>\n",
       "      <td>2020-08-05</td>\n",
       "      <td>Đường Hoàng Quốc Việt, Phường Nghĩa Đô, Quận C...</td>\n",
       "      <td>Quận Cầu Giấy</td>\n",
       "      <td>Phường Nghĩa Đô</td>\n",
       "      <td>Nhà ngõ, hẻm</td>\n",
       "      <td>Đã có sổ</td>\n",
       "      <td>4</td>\n",
       "      <td>5 phòng</td>\n",
       "      <td>46 m²</td>\n",
       "      <td>NaN</td>\n",
       "      <td>NaN</td>\n",
       "      <td>86,96 triệu/m²</td>\n",
       "    </tr>\n",
       "    <tr>\n",
       "      <th>1</th>\n",
       "      <td>1.0</td>\n",
       "      <td>2020-08-05</td>\n",
       "      <td>Đường Kim Giang, Phường Kim Giang, Quận Thanh ...</td>\n",
       "      <td>Quận Thanh Xuân</td>\n",
       "      <td>Phường Kim Giang</td>\n",
       "      <td>Nhà mặt phố, mặt tiền</td>\n",
       "      <td>NaN</td>\n",
       "      <td>NaN</td>\n",
       "      <td>3 phòng</td>\n",
       "      <td>37 m²</td>\n",
       "      <td>NaN</td>\n",
       "      <td>NaN</td>\n",
       "      <td>116,22 triệu/m²</td>\n",
       "    </tr>\n",
       "    <tr>\n",
       "      <th>2</th>\n",
       "      <td>2.0</td>\n",
       "      <td>2020-08-05</td>\n",
       "      <td>phố minh khai, Phường Minh Khai, Quận Hai Bà T...</td>\n",
       "      <td>Quận Hai Bà Trưng</td>\n",
       "      <td>Phường Minh Khai</td>\n",
       "      <td>Nhà ngõ, hẻm</td>\n",
       "      <td>Đã có sổ</td>\n",
       "      <td>4</td>\n",
       "      <td>4 phòng</td>\n",
       "      <td>40 m²</td>\n",
       "      <td>10 m</td>\n",
       "      <td>4 m</td>\n",
       "      <td>65 triệu/m²</td>\n",
       "    </tr>\n",
       "    <tr>\n",
       "      <th>3</th>\n",
       "      <td>3.0</td>\n",
       "      <td>2020-08-05</td>\n",
       "      <td>Đường Võng Thị, Phường Thụy Khuê, Quận Tây Hồ,...</td>\n",
       "      <td>Quận Tây Hồ</td>\n",
       "      <td>Phường Thụy Khuê</td>\n",
       "      <td>Nhà ngõ, hẻm</td>\n",
       "      <td>Đã có sổ</td>\n",
       "      <td>NaN</td>\n",
       "      <td>6 phòng</td>\n",
       "      <td>51 m²</td>\n",
       "      <td>12.75 m</td>\n",
       "      <td>4 m</td>\n",
       "      <td>100 triệu/m²</td>\n",
       "    </tr>\n",
       "    <tr>\n",
       "      <th>4</th>\n",
       "      <td>4.0</td>\n",
       "      <td>2020-08-05</td>\n",
       "      <td>Đường Kim Giang, Phường Kim Giang, Quận Thanh ...</td>\n",
       "      <td>Quận Thanh Xuân</td>\n",
       "      <td>Phường Kim Giang</td>\n",
       "      <td>Nhà ngõ, hẻm</td>\n",
       "      <td>NaN</td>\n",
       "      <td>NaN</td>\n",
       "      <td>4 phòng</td>\n",
       "      <td>36 m²</td>\n",
       "      <td>9 m</td>\n",
       "      <td>4 m</td>\n",
       "      <td>86,11 triệu/m²</td>\n",
       "    </tr>\n",
       "    <tr>\n",
       "      <th>...</th>\n",
       "      <td>...</td>\n",
       "      <td>...</td>\n",
       "      <td>...</td>\n",
       "      <td>...</td>\n",
       "      <td>...</td>\n",
       "      <td>...</td>\n",
       "      <td>...</td>\n",
       "      <td>...</td>\n",
       "      <td>...</td>\n",
       "      <td>...</td>\n",
       "      <td>...</td>\n",
       "      <td>...</td>\n",
       "      <td>...</td>\n",
       "    </tr>\n",
       "    <tr>\n",
       "      <th>82492</th>\n",
       "      <td>82492.0</td>\n",
       "      <td>2019-08-07</td>\n",
       "      <td>Đường Trần Quốc Hoàn, Phường Quan Hoa, Quận Cầ...</td>\n",
       "      <td>Quận Cầu Giấy</td>\n",
       "      <td>Phường Quan Hoa</td>\n",
       "      <td>Nhà mặt phố, mặt tiền</td>\n",
       "      <td>NaN</td>\n",
       "      <td>NaN</td>\n",
       "      <td>3 phòng</td>\n",
       "      <td>50 m²</td>\n",
       "      <td>NaN</td>\n",
       "      <td>NaN</td>\n",
       "      <td>292 triệu/m²</td>\n",
       "    </tr>\n",
       "    <tr>\n",
       "      <th>82493</th>\n",
       "      <td>82493.0</td>\n",
       "      <td>2019-08-07</td>\n",
       "      <td>Đường Nguyễn Khánh Toàn, Phường Quan Hoa, Quận...</td>\n",
       "      <td>Quận Cầu Giấy</td>\n",
       "      <td>Phường Quan Hoa</td>\n",
       "      <td>Nhà mặt phố, mặt tiền</td>\n",
       "      <td>Đã có sổ</td>\n",
       "      <td>NaN</td>\n",
       "      <td>4 phòng</td>\n",
       "      <td>41 m²</td>\n",
       "      <td>NaN</td>\n",
       "      <td>NaN</td>\n",
       "      <td>341,46 triệu/m²</td>\n",
       "    </tr>\n",
       "    <tr>\n",
       "      <th>82494</th>\n",
       "      <td>82494.0</td>\n",
       "      <td>2019-08-05</td>\n",
       "      <td>Đường Quan Hoa, Phường Quan Hoa, Quận Cầu Giấy...</td>\n",
       "      <td>Quận Cầu Giấy</td>\n",
       "      <td>Phường Quan Hoa</td>\n",
       "      <td>Nhà ngõ, hẻm</td>\n",
       "      <td>Đã có sổ</td>\n",
       "      <td>NaN</td>\n",
       "      <td>4 phòng</td>\n",
       "      <td>60 m²</td>\n",
       "      <td>NaN</td>\n",
       "      <td>NaN</td>\n",
       "      <td>101,67 triệu/m²</td>\n",
       "    </tr>\n",
       "    <tr>\n",
       "      <th>82495</th>\n",
       "      <td>82495.0</td>\n",
       "      <td>2019-08-05</td>\n",
       "      <td>Đường Hồ Tùng Mậu, Phường Mai Dịch, Quận Cầu G...</td>\n",
       "      <td>Quận Cầu Giấy</td>\n",
       "      <td>Phường Mai Dịch</td>\n",
       "      <td>Nhà phố liền kề</td>\n",
       "      <td>NaN</td>\n",
       "      <td>NaN</td>\n",
       "      <td>4 phòng</td>\n",
       "      <td>45 m²</td>\n",
       "      <td>NaN</td>\n",
       "      <td>NaN</td>\n",
       "      <td>102,22 triệu/m²</td>\n",
       "    </tr>\n",
       "    <tr>\n",
       "      <th>82496</th>\n",
       "      <td>NaN</td>\n",
       "      <td>NaN</td>\n",
       "      <td>NaN</td>\n",
       "      <td>NaN</td>\n",
       "      <td>NaN</td>\n",
       "      <td>NaN</td>\n",
       "      <td>NaN</td>\n",
       "      <td>NaN</td>\n",
       "      <td>NaN</td>\n",
       "      <td>NaN</td>\n",
       "      <td>NaN</td>\n",
       "      <td>NaN</td>\n",
       "      <td>NaN</td>\n",
       "    </tr>\n",
       "  </tbody>\n",
       "</table>\n",
       "<p>82497 rows × 13 columns</p>\n",
       "</div>"
      ],
      "text/plain": [
       "       Unnamed: 0        Ngày  \\\n",
       "0             0.0  2020-08-05   \n",
       "1             1.0  2020-08-05   \n",
       "2             2.0  2020-08-05   \n",
       "3             3.0  2020-08-05   \n",
       "4             4.0  2020-08-05   \n",
       "...           ...         ...   \n",
       "82492     82492.0  2019-08-07   \n",
       "82493     82493.0  2019-08-07   \n",
       "82494     82494.0  2019-08-05   \n",
       "82495     82495.0  2019-08-05   \n",
       "82496         NaN         NaN   \n",
       "\n",
       "                                                 Địa chỉ               Quận  \\\n",
       "0      Đường Hoàng Quốc Việt, Phường Nghĩa Đô, Quận C...      Quận Cầu Giấy   \n",
       "1      Đường Kim Giang, Phường Kim Giang, Quận Thanh ...    Quận Thanh Xuân   \n",
       "2      phố minh khai, Phường Minh Khai, Quận Hai Bà T...  Quận Hai Bà Trưng   \n",
       "3      Đường Võng Thị, Phường Thụy Khuê, Quận Tây Hồ,...        Quận Tây Hồ   \n",
       "4      Đường Kim Giang, Phường Kim Giang, Quận Thanh ...    Quận Thanh Xuân   \n",
       "...                                                  ...                ...   \n",
       "82492  Đường Trần Quốc Hoàn, Phường Quan Hoa, Quận Cầ...      Quận Cầu Giấy   \n",
       "82493  Đường Nguyễn Khánh Toàn, Phường Quan Hoa, Quận...      Quận Cầu Giấy   \n",
       "82494  Đường Quan Hoa, Phường Quan Hoa, Quận Cầu Giấy...      Quận Cầu Giấy   \n",
       "82495  Đường Hồ Tùng Mậu, Phường Mai Dịch, Quận Cầu G...      Quận Cầu Giấy   \n",
       "82496                                                NaN                NaN   \n",
       "\n",
       "                  Huyện        Loại hình nhà ở Giấy tờ pháp lý Số tầng  \\\n",
       "0       Phường Nghĩa Đô           Nhà ngõ, hẻm        Đã có sổ       4   \n",
       "1      Phường Kim Giang  Nhà mặt phố, mặt tiền             NaN     NaN   \n",
       "2      Phường Minh Khai           Nhà ngõ, hẻm        Đã có sổ       4   \n",
       "3      Phường Thụy Khuê           Nhà ngõ, hẻm        Đã có sổ     NaN   \n",
       "4      Phường Kim Giang           Nhà ngõ, hẻm             NaN     NaN   \n",
       "...                 ...                    ...             ...     ...   \n",
       "82492   Phường Quan Hoa  Nhà mặt phố, mặt tiền             NaN     NaN   \n",
       "82493   Phường Quan Hoa  Nhà mặt phố, mặt tiền        Đã có sổ     NaN   \n",
       "82494   Phường Quan Hoa           Nhà ngõ, hẻm        Đã có sổ     NaN   \n",
       "82495   Phường Mai Dịch        Nhà phố liền kề             NaN     NaN   \n",
       "82496               NaN                    NaN             NaN     NaN   \n",
       "\n",
       "      Số phòng ngủ Diện tích      Dài Rộng           Giá/m2  \n",
       "0          5 phòng     46 m²      NaN  NaN   86,96 triệu/m²  \n",
       "1          3 phòng     37 m²      NaN  NaN  116,22 triệu/m²  \n",
       "2          4 phòng     40 m²     10 m  4 m      65 triệu/m²  \n",
       "3          6 phòng     51 m²  12.75 m  4 m     100 triệu/m²  \n",
       "4          4 phòng     36 m²      9 m  4 m   86,11 triệu/m²  \n",
       "...            ...       ...      ...  ...              ...  \n",
       "82492      3 phòng     50 m²      NaN  NaN     292 triệu/m²  \n",
       "82493      4 phòng     41 m²      NaN  NaN  341,46 triệu/m²  \n",
       "82494      4 phòng     60 m²      NaN  NaN  101,67 triệu/m²  \n",
       "82495      4 phòng     45 m²      NaN  NaN  102,22 triệu/m²  \n",
       "82496          NaN       NaN      NaN  NaN              NaN  \n",
       "\n",
       "[82497 rows x 13 columns]"
      ]
     },
     "execution_count": 334,
     "metadata": {},
     "output_type": "execute_result"
    }
   ],
   "source": [
    "house = pd.read_csv(\"C:\\AI\\data\\VN_housing_dataset.csv\")\n",
    "# house = house.fillna('0')\n",
    "house"
   ]
  },
  {
   "cell_type": "code",
   "execution_count": 335,
   "id": "c233c415",
   "metadata": {},
   "outputs": [
    {
     "data": {
      "text/plain": [
       "51.36443796593733"
      ]
     },
     "execution_count": 335,
     "metadata": {},
     "output_type": "execute_result"
    }
   ],
   "source": [
    "house['Diện tích'] = house['Diện tích'].str.replace(' m²','') \n",
    "house['Diện tích'] = house['Diện tích'].astype(float)\n",
    "mea = house['Diện tích'].mean()\n",
    "mea"
   ]
  },
  {
   "cell_type": "code",
   "execution_count": 336,
   "id": "2f7bae06",
   "metadata": {},
   "outputs": [],
   "source": [
    "house['Diện tích'] = house['Diện tích'].fillna(str(mea))\n",
    "house['Diện tích'] = house['Diện tích'].astype(float)"
   ]
  },
  {
   "cell_type": "code",
   "execution_count": 337,
   "id": "8b51ca16",
   "metadata": {},
   "outputs": [],
   "source": [
    "\n",
    "\n",
    "# house['Diện tích'].fillna(str(house['Diện tích'].mean()))\n",
    "# house['Diện tích'] = house['Diện tích'].astype(float)\n",
    "def identify_outliers(data):\n",
    "    q1 = np.percentile(data, 25)\n",
    "    q3 = np.percentile(data, 75)\n",
    "    iqr = q3 - q1\n",
    "    lower_bound = q1 - 1.5 * iqr\n",
    "    upper_bound = q3 + 1.5 * iqr\n",
    "\n",
    "    outliers = [value for value in data if value < lower_bound or value > upper_bound]\n",
    "    return outliers\n",
    "outliers = identify_outliers(house['Diện tích'])\n",
    "outliers\n",
    "house = house[~house['Diện tích'].isin(outliers)]\n",
    "dt = house['Diện tích']\n",
    "dt = np.array([house['Diện tích']]).T\n"
   ]
  },
  {
   "cell_type": "code",
   "execution_count": 338,
   "id": "137461f9",
   "metadata": {},
   "outputs": [
    {
     "data": {
      "text/plain": [
       "array([[46.        ],\n",
       "       [37.        ],\n",
       "       [40.        ],\n",
       "       ...,\n",
       "       [60.        ],\n",
       "       [45.        ],\n",
       "       [51.36443797]])"
      ]
     },
     "execution_count": 338,
     "metadata": {},
     "output_type": "execute_result"
    }
   ],
   "source": [
    "dt"
   ]
  },
  {
   "cell_type": "code",
   "execution_count": null,
   "id": "1451fe4f",
   "metadata": {},
   "outputs": [],
   "source": []
  },
  {
   "cell_type": "code",
   "execution_count": 339,
   "id": "100ca490",
   "metadata": {},
   "outputs": [
    {
     "data": {
      "text/plain": [
       "(76385, 1)"
      ]
     },
     "execution_count": 339,
     "metadata": {},
     "output_type": "execute_result"
    }
   ],
   "source": [
    "price = []\n",
    "for i in house['Giá/m2']: # tách số\n",
    "    m = (re.findall(r'\\d+', str(i)))\n",
    "    if len(m) == 2:\n",
    "        a = m[0] + '.' + m[1]\n",
    "    elif len(m) == 1:\n",
    "        a = m[0]\n",
    "    a = float(a)\n",
    "    price.append(a)\n",
    "price = np.array([price]).T\n",
    "price.shape\n"
   ]
  },
  {
   "cell_type": "code",
   "execution_count": 340,
   "id": "f9a924b7",
   "metadata": {},
   "outputs": [
    {
     "data": {
      "text/plain": [
       "array([[79.57334836],\n",
       "       [ 0.49145662]])"
      ]
     },
     "execution_count": 340,
     "metadata": {},
     "output_type": "execute_result"
    }
   ],
   "source": [
    "# Tính theo dữ liệu diện tích\n",
    "# xác định Xbar\n",
    "one_ = np.ones((dt.shape[0],1))\n",
    "dtBar = np.concatenate((one_,dt), axis = 1)\n",
    "x = np.dot(dtBar.T, dtBar)\n",
    "y = np.dot(dtBar.T, price)\n",
    "w = np.dot(np.linalg.pinv(x),y)\n",
    "y_ = w[0][0] +60*w[1][0]\n",
    "w"
   ]
  },
  {
   "cell_type": "code",
   "execution_count": 341,
   "id": "7f75b2cb",
   "metadata": {},
   "outputs": [
    {
     "data": {
      "image/png": "[encoded data removed]",
      "text/plain": [
       "<Figure size 640x480 with 1 Axes>"
      ]
     },
     "metadata": {},
     "output_type": "display_data"
    }
   ],
   "source": [
    "a = dt.min()\n",
    "b = dt.max()\n",
    "c = price.min()\n",
    "d = price.max()\n",
    "\n",
    "x0 = np.linspace(a,b,2)\n",
    "y0 = w[0][0] + w[1][0]*x0\n",
    "\n",
    "plt.plot(dt, price, 'yo')\n",
    "plt.plot(x0, y0)\n",
    "plt.axis([a, b, c, d])\n",
    "plt.xlabel('Diện tích')\n",
    "plt.ylabel('Giá/m2')\n",
    "plt.show()"
   ]
  },
  {
   "cell_type": "code",
   "execution_count": 342,
   "id": "cfedcd2b",
   "metadata": {},
   "outputs": [
    {
     "data": {
      "text/plain": [
       "array([[79.57334836,  0.49145662]])"
      ]
     },
     "execution_count": 342,
     "metadata": {},
     "output_type": "execute_result"
    }
   ],
   "source": [
    "#  Tính bằng scikit-learn\n",
    "regr = linear_model.LinearRegression(fit_intercept=0)\n",
    "regr.fit(dtBar, price)\n",
    "regr.coef_"
   ]
  },
  {
   "cell_type": "code",
   "execution_count": 343,
   "id": "79cdfc72",
   "metadata": {},
   "outputs": [
    {
     "name": "stdout",
     "output_type": "stream",
     "text": [
      "[[99.23161297]]\n"
     ]
    }
   ],
   "source": [
    "print(regr.predict([[1,40]]))"
   ]
  },
  {
   "cell_type": "code",
   "execution_count": 344,
   "id": "d43b5c47",
   "metadata": {},
   "outputs": [
    {
     "data": {
      "text/plain": [
       "31.271475860135904"
      ]
     },
     "execution_count": 344,
     "metadata": {},
     "output_type": "execute_result"
    }
   ],
   "source": [
    "predict_home_price = regr.predict(dtBar)\n",
    "mean_absolute_error(price, predict_home_price)"
   ]
  },
  {
   "cell_type": "markdown",
   "id": "f507f042",
   "metadata": {},
   "source": [
    "# số phòng ngủ, diện tích, số tầng"
   ]
  },
  {
   "cell_type": "code",
   "execution_count": 345,
   "id": "a54bf194",
   "metadata": {},
   "outputs": [
    {
     "name": "stderr",
     "output_type": "stream",
     "text": [
      "C:\\Users\\lkkk\\AppData\\Local\\Temp\\ipykernel_13544\\1966570975.py:1: SettingWithCopyWarning: \n",
      "A value is trying to be set on a copy of a slice from a DataFrame.\n",
      "Try using .loc[row_indexer,col_indexer] = value instead\n",
      "\n",
      "See the caveats in the documentation: https://pandas.pydata.org/pandas-docs/stable/user_guide/indexing.html#returning-a-view-versus-a-copy\n",
      "  house['Số phòng ngủ'] = house['Số phòng ngủ'].str.replace(' phòng','')\n",
      "C:\\Users\\lkkk\\AppData\\Local\\Temp\\ipykernel_13544\\1966570975.py:2: SettingWithCopyWarning: \n",
      "A value is trying to be set on a copy of a slice from a DataFrame.\n",
      "Try using .loc[row_indexer,col_indexer] = value instead\n",
      "\n",
      "See the caveats in the documentation: https://pandas.pydata.org/pandas-docs/stable/user_guide/indexing.html#returning-a-view-versus-a-copy\n",
      "  house['Số phòng ngủ'] = house['Số phòng ngủ'].str.replace('nhiều hơn 10','10')\n",
      "C:\\Users\\lkkk\\AppData\\Local\\Temp\\ipykernel_13544\\1966570975.py:3: SettingWithCopyWarning: \n",
      "A value is trying to be set on a copy of a slice from a DataFrame.\n",
      "Try using .loc[row_indexer,col_indexer] = value instead\n",
      "\n",
      "See the caveats in the documentation: https://pandas.pydata.org/pandas-docs/stable/user_guide/indexing.html#returning-a-view-versus-a-copy\n",
      "  house['Số phòng ngủ'] = house['Số phòng ngủ'].fillna('0')\n",
      "C:\\Users\\lkkk\\AppData\\Local\\Temp\\ipykernel_13544\\1966570975.py:4: SettingWithCopyWarning: \n",
      "A value is trying to be set on a copy of a slice from a DataFrame.\n",
      "Try using .loc[row_indexer,col_indexer] = value instead\n",
      "\n",
      "See the caveats in the documentation: https://pandas.pydata.org/pandas-docs/stable/user_guide/indexing.html#returning-a-view-versus-a-copy\n",
      "  house['Số phòng ngủ'] = house['Số phòng ngủ'].astype(int)\n",
      "C:\\Users\\lkkk\\AppData\\Local\\Temp\\ipykernel_13544\\1966570975.py:7: SettingWithCopyWarning: \n",
      "A value is trying to be set on a copy of a slice from a DataFrame.\n",
      "Try using .loc[row_indexer,col_indexer] = value instead\n",
      "\n",
      "See the caveats in the documentation: https://pandas.pydata.org/pandas-docs/stable/user_guide/indexing.html#returning-a-view-versus-a-copy\n",
      "  house['Số phòng ngủ'] = house['Số phòng ngủ'].astype(int)\n"
     ]
    },
    {
     "data": {
      "text/plain": [
       "67521"
      ]
     },
     "execution_count": 345,
     "metadata": {},
     "output_type": "execute_result"
    }
   ],
   "source": [
    "house['Số phòng ngủ'] = house['Số phòng ngủ'].str.replace(' phòng','')\n",
    "house['Số phòng ngủ'] = house['Số phòng ngủ'].str.replace('nhiều hơn 10','10')\n",
    "house['Số phòng ngủ'] = house['Số phòng ngủ'].fillna('0')\n",
    "house['Số phòng ngủ'] = house['Số phòng ngủ'].astype(int)\n",
    "mea = house['Số phòng ngủ'].mean()\n",
    "house['Số phòng ngủ'].fillna(str(mea))\n",
    "house['Số phòng ngủ'] = house['Số phòng ngủ'].astype(int)\n",
    "outliers = identify_outliers(house['Số phòng ngủ'])\n",
    "house = house[~house['Số phòng ngủ'].isin(outliers)]\n",
    "len(house)"
   ]
  },
  {
   "cell_type": "code",
   "execution_count": 346,
   "id": "8f3e4e2d",
   "metadata": {},
   "outputs": [],
   "source": [
    "house['Số tầng'] = house['Số tầng'].str.replace('Nhiều hơn ','')\n",
    "house['Số tầng'] = house['Số tầng'].fillna('0')\n",
    "house['Số tầng'] = house['Số tầng'].astype(int)\n",
    "mea = round(house['Số tầng'].mean())\n",
    "house['Số tầng'] = house['Số tầng'].replace(0,mea)"
   ]
  },
  {
   "cell_type": "code",
   "execution_count": 347,
   "id": "82b72744",
   "metadata": {},
   "outputs": [
    {
     "data": {
      "text/plain": [
       "array([5, 3, 4, 2])"
      ]
     },
     "execution_count": 347,
     "metadata": {},
     "output_type": "execute_result"
    }
   ],
   "source": [
    "cham = house['Số phòng ngủ'].unique()\n",
    "cham"
   ]
  },
  {
   "cell_type": "code",
   "execution_count": 348,
   "id": "1c0f0f9e",
   "metadata": {},
   "outputs": [
    {
     "data": {
      "text/plain": [
       "67466"
      ]
     },
     "execution_count": 348,
     "metadata": {},
     "output_type": "execute_result"
    }
   ],
   "source": [
    "outliers = identify_outliers(house['Số tầng'])\n",
    "house = house[~house['Số tầng'].isin(outliers)]\n",
    "dt = house['Diện tích']\n",
    "dt = np.array([house['Diện tích']]).T\n",
    "fl = house['Số tầng']\n",
    "fl = np.array([house['Số tầng']]).T\n",
    "cham = house['Số phòng ngủ']\n",
    "cham = np.array([house['Số phòng ngủ']]).T\n",
    "len(fl)"
   ]
  },
  {
   "cell_type": "code",
   "execution_count": 349,
   "id": "53b4012c",
   "metadata": {},
   "outputs": [
    {
     "data": {
      "text/plain": [
       "67466"
      ]
     },
     "execution_count": 349,
     "metadata": {},
     "output_type": "execute_result"
    }
   ],
   "source": [
    "price = []\n",
    "for i in house['Giá/m2']: # tách số\n",
    "    m = (re.findall(r'\\d+', str(i)))\n",
    "    if len(m) == 2:\n",
    "        a = m[0] + '.' + m[1]\n",
    "    elif len(m) == 1:\n",
    "        a = m[0]\n",
    "    a = float(a)\n",
    "    price.append(a)\n",
    "price = np.array([price]).T\n",
    "len(price)"
   ]
  },
  {
   "cell_type": "code",
   "execution_count": 350,
   "id": "c861ef26",
   "metadata": {},
   "outputs": [
    {
     "data": {
      "text/plain": [
       "array([[ 5., 46.,  4.],\n",
       "       [ 3., 37.,  2.],\n",
       "       [ 4., 40.,  4.],\n",
       "       ...,\n",
       "       [ 4., 41.,  2.],\n",
       "       [ 4., 60.,  2.],\n",
       "       [ 4., 45.,  2.]])"
      ]
     },
     "execution_count": 350,
     "metadata": {},
     "output_type": "execute_result"
    }
   ],
   "source": [
    "X = np.concatenate((cham,dt,fl), axis = 1)\n",
    "X"
   ]
  },
  {
   "cell_type": "code",
   "execution_count": 351,
   "id": "9250e04d",
   "metadata": {},
   "outputs": [
    {
     "data": {
      "text/plain": [
       "array([[ 6.35122990e+01,  7.78914848e+00, -3.72042870e-02,\n",
       "         2.49298290e+00]])"
      ]
     },
     "execution_count": 351,
     "metadata": {},
     "output_type": "execute_result"
    }
   ],
   "source": [
    "one = np.ones((X.shape[0], 1))\n",
    "Xbar = np.concatenate((one,X), axis = 1)\n",
    "\n",
    "# xác định w\n",
    "regr = linear_model.LinearRegression(fit_intercept=0)\n",
    "regr.fit(Xbar, price)\n",
    "regr.coef_\n"
   ]
  },
  {
   "cell_type": "code",
   "execution_count": 352,
   "id": "7764c2a2",
   "metadata": {},
   "outputs": [
    {
     "data": {
      "text/plain": [
       "array([[110.71857584],\n",
       "       [ 90.48915165],\n",
       "       [103.15265308],\n",
       "       ...,\n",
       "       [ 98.12948298],\n",
       "       [ 97.42260153],\n",
       "       [ 97.98066583]])"
      ]
     },
     "execution_count": 352,
     "metadata": {},
     "output_type": "execute_result"
    }
   ],
   "source": [
    "regr.predict(Xbar)"
   ]
  },
  {
   "cell_type": "code",
   "execution_count": 353,
   "id": "9ffa4266",
   "metadata": {},
   "outputs": [
    {
     "data": {
      "text/plain": [
       "array([[ 86.96],\n",
       "       [116.22],\n",
       "       [ 65.  ],\n",
       "       ...,\n",
       "       [341.46],\n",
       "       [101.67],\n",
       "       [102.22]])"
      ]
     },
     "execution_count": 353,
     "metadata": {},
     "output_type": "execute_result"
    }
   ],
   "source": [
    "price"
   ]
  },
  {
   "cell_type": "code",
   "execution_count": 354,
   "id": "309b24e5",
   "metadata": {},
   "outputs": [
    {
     "data": {
      "text/plain": [
       "28.04498993323525"
      ]
     },
     "execution_count": 354,
     "metadata": {},
     "output_type": "execute_result"
    }
   ],
   "source": [
    "predict_home_price = regr.predict(Xbar)\n",
    "mean_absolute_error(price, predict_home_price)"
   ]
  },
  {
   "cell_type": "code",
   "execution_count": 355,
   "id": "3690267e",
   "metadata": {},
   "outputs": [
    {
     "data": {
      "text/html": [
       "<div>\n",
       "<style scoped>\n",
       "    .dataframe tbody tr th:only-of-type {\n",
       "        vertical-align: middle;\n",
       "    }\n",
       "\n",
       "    .dataframe tbody tr th {\n",
       "        vertical-align: top;\n",
       "    }\n",
       "\n",
       "    .dataframe thead th {\n",
       "        text-align: right;\n",
       "    }\n",
       "</style>\n",
       "<table border=\"1\" class=\"dataframe\">\n",
       "  <thead>\n",
       "    <tr style=\"text-align: right;\">\n",
       "      <th></th>\n",
       "      <th>Unnamed: 0</th>\n",
       "      <th>Ngày</th>\n",
       "      <th>Địa chỉ</th>\n",
       "      <th>Quận</th>\n",
       "      <th>Huyện</th>\n",
       "      <th>Loại hình nhà ở</th>\n",
       "      <th>Giấy tờ pháp lý</th>\n",
       "      <th>Số tầng</th>\n",
       "      <th>Số phòng ngủ</th>\n",
       "      <th>Diện tích</th>\n",
       "      <th>Dài</th>\n",
       "      <th>Rộng</th>\n",
       "      <th>Giá/m2</th>\n",
       "    </tr>\n",
       "  </thead>\n",
       "  <tbody>\n",
       "    <tr>\n",
       "      <th>0</th>\n",
       "      <td>0.0</td>\n",
       "      <td>2020-08-05</td>\n",
       "      <td>Đường Hoàng Quốc Việt, Phường Nghĩa Đô, Quận C...</td>\n",
       "      <td>Quận Cầu Giấy</td>\n",
       "      <td>Phường Nghĩa Đô</td>\n",
       "      <td>Nhà ngõ, hẻm</td>\n",
       "      <td>Đã có sổ</td>\n",
       "      <td>4</td>\n",
       "      <td>5</td>\n",
       "      <td>46.0</td>\n",
       "      <td>NaN</td>\n",
       "      <td>NaN</td>\n",
       "      <td>86,96 triệu/m²</td>\n",
       "    </tr>\n",
       "    <tr>\n",
       "      <th>1</th>\n",
       "      <td>1.0</td>\n",
       "      <td>2020-08-05</td>\n",
       "      <td>Đường Kim Giang, Phường Kim Giang, Quận Thanh ...</td>\n",
       "      <td>Quận Thanh Xuân</td>\n",
       "      <td>Phường Kim Giang</td>\n",
       "      <td>Nhà mặt phố, mặt tiền</td>\n",
       "      <td>NaN</td>\n",
       "      <td>2</td>\n",
       "      <td>3</td>\n",
       "      <td>37.0</td>\n",
       "      <td>NaN</td>\n",
       "      <td>NaN</td>\n",
       "      <td>116,22 triệu/m²</td>\n",
       "    </tr>\n",
       "    <tr>\n",
       "      <th>2</th>\n",
       "      <td>2.0</td>\n",
       "      <td>2020-08-05</td>\n",
       "      <td>phố minh khai, Phường Minh Khai, Quận Hai Bà T...</td>\n",
       "      <td>Quận Hai Bà Trưng</td>\n",
       "      <td>Phường Minh Khai</td>\n",
       "      <td>Nhà ngõ, hẻm</td>\n",
       "      <td>Đã có sổ</td>\n",
       "      <td>4</td>\n",
       "      <td>4</td>\n",
       "      <td>40.0</td>\n",
       "      <td>10 m</td>\n",
       "      <td>4 m</td>\n",
       "      <td>65 triệu/m²</td>\n",
       "    </tr>\n",
       "    <tr>\n",
       "      <th>4</th>\n",
       "      <td>4.0</td>\n",
       "      <td>2020-08-05</td>\n",
       "      <td>Đường Kim Giang, Phường Kim Giang, Quận Thanh ...</td>\n",
       "      <td>Quận Thanh Xuân</td>\n",
       "      <td>Phường Kim Giang</td>\n",
       "      <td>Nhà ngõ, hẻm</td>\n",
       "      <td>NaN</td>\n",
       "      <td>2</td>\n",
       "      <td>4</td>\n",
       "      <td>36.0</td>\n",
       "      <td>9 m</td>\n",
       "      <td>4 m</td>\n",
       "      <td>86,11 triệu/m²</td>\n",
       "    </tr>\n",
       "    <tr>\n",
       "      <th>6</th>\n",
       "      <td>6.0</td>\n",
       "      <td>2020-08-05</td>\n",
       "      <td>Đường Tây Sơn, Phường Trung Liệt, Quận Đống Đa...</td>\n",
       "      <td>Quận Đống Đa</td>\n",
       "      <td>Phường Trung Liệt</td>\n",
       "      <td>Nhà ngõ, hẻm</td>\n",
       "      <td>NaN</td>\n",
       "      <td>2</td>\n",
       "      <td>3</td>\n",
       "      <td>52.0</td>\n",
       "      <td>NaN</td>\n",
       "      <td>4.5 m</td>\n",
       "      <td>112,5 triệu/m²</td>\n",
       "    </tr>\n",
       "    <tr>\n",
       "      <th>...</th>\n",
       "      <td>...</td>\n",
       "      <td>...</td>\n",
       "      <td>...</td>\n",
       "      <td>...</td>\n",
       "      <td>...</td>\n",
       "      <td>...</td>\n",
       "      <td>...</td>\n",
       "      <td>...</td>\n",
       "      <td>...</td>\n",
       "      <td>...</td>\n",
       "      <td>...</td>\n",
       "      <td>...</td>\n",
       "      <td>...</td>\n",
       "    </tr>\n",
       "    <tr>\n",
       "      <th>82491</th>\n",
       "      <td>82491.0</td>\n",
       "      <td>2019-08-23</td>\n",
       "      <td>Đường Hồ Tùng Mậu, Phường Phúc Diễn, Quận Bắc ...</td>\n",
       "      <td>Quận Bắc Từ Liêm</td>\n",
       "      <td>Phường Phúc Diễn</td>\n",
       "      <td>Nhà phố liền kề</td>\n",
       "      <td>NaN</td>\n",
       "      <td>2</td>\n",
       "      <td>3</td>\n",
       "      <td>38.0</td>\n",
       "      <td>NaN</td>\n",
       "      <td>NaN</td>\n",
       "      <td>81,58 triệu/m²</td>\n",
       "    </tr>\n",
       "    <tr>\n",
       "      <th>82492</th>\n",
       "      <td>82492.0</td>\n",
       "      <td>2019-08-07</td>\n",
       "      <td>Đường Trần Quốc Hoàn, Phường Quan Hoa, Quận Cầ...</td>\n",
       "      <td>Quận Cầu Giấy</td>\n",
       "      <td>Phường Quan Hoa</td>\n",
       "      <td>Nhà mặt phố, mặt tiền</td>\n",
       "      <td>NaN</td>\n",
       "      <td>2</td>\n",
       "      <td>3</td>\n",
       "      <td>50.0</td>\n",
       "      <td>NaN</td>\n",
       "      <td>NaN</td>\n",
       "      <td>292 triệu/m²</td>\n",
       "    </tr>\n",
       "    <tr>\n",
       "      <th>82493</th>\n",
       "      <td>82493.0</td>\n",
       "      <td>2019-08-07</td>\n",
       "      <td>Đường Nguyễn Khánh Toàn, Phường Quan Hoa, Quận...</td>\n",
       "      <td>Quận Cầu Giấy</td>\n",
       "      <td>Phường Quan Hoa</td>\n",
       "      <td>Nhà mặt phố, mặt tiền</td>\n",
       "      <td>Đã có sổ</td>\n",
       "      <td>2</td>\n",
       "      <td>4</td>\n",
       "      <td>41.0</td>\n",
       "      <td>NaN</td>\n",
       "      <td>NaN</td>\n",
       "      <td>341,46 triệu/m²</td>\n",
       "    </tr>\n",
       "    <tr>\n",
       "      <th>82494</th>\n",
       "      <td>82494.0</td>\n",
       "      <td>2019-08-05</td>\n",
       "      <td>Đường Quan Hoa, Phường Quan Hoa, Quận Cầu Giấy...</td>\n",
       "      <td>Quận Cầu Giấy</td>\n",
       "      <td>Phường Quan Hoa</td>\n",
       "      <td>Nhà ngõ, hẻm</td>\n",
       "      <td>Đã có sổ</td>\n",
       "      <td>2</td>\n",
       "      <td>4</td>\n",
       "      <td>60.0</td>\n",
       "      <td>NaN</td>\n",
       "      <td>NaN</td>\n",
       "      <td>101,67 triệu/m²</td>\n",
       "    </tr>\n",
       "    <tr>\n",
       "      <th>82495</th>\n",
       "      <td>82495.0</td>\n",
       "      <td>2019-08-05</td>\n",
       "      <td>Đường Hồ Tùng Mậu, Phường Mai Dịch, Quận Cầu G...</td>\n",
       "      <td>Quận Cầu Giấy</td>\n",
       "      <td>Phường Mai Dịch</td>\n",
       "      <td>Nhà phố liền kề</td>\n",
       "      <td>NaN</td>\n",
       "      <td>2</td>\n",
       "      <td>4</td>\n",
       "      <td>45.0</td>\n",
       "      <td>NaN</td>\n",
       "      <td>NaN</td>\n",
       "      <td>102,22 triệu/m²</td>\n",
       "    </tr>\n",
       "  </tbody>\n",
       "</table>\n",
       "<p>67466 rows × 13 columns</p>\n",
       "</div>"
      ],
      "text/plain": [
       "       Unnamed: 0        Ngày  \\\n",
       "0             0.0  2020-08-05   \n",
       "1             1.0  2020-08-05   \n",
       "2             2.0  2020-08-05   \n",
       "4             4.0  2020-08-05   \n",
       "6             6.0  2020-08-05   \n",
       "...           ...         ...   \n",
       "82491     82491.0  2019-08-23   \n",
       "82492     82492.0  2019-08-07   \n",
       "82493     82493.0  2019-08-07   \n",
       "82494     82494.0  2019-08-05   \n",
       "82495     82495.0  2019-08-05   \n",
       "\n",
       "                                                 Địa chỉ               Quận  \\\n",
       "0      Đường Hoàng Quốc Việt, Phường Nghĩa Đô, Quận C...      Quận Cầu Giấy   \n",
       "1      Đường Kim Giang, Phường Kim Giang, Quận Thanh ...    Quận Thanh Xuân   \n",
       "2      phố minh khai, Phường Minh Khai, Quận Hai Bà T...  Quận Hai Bà Trưng   \n",
       "4      Đường Kim Giang, Phường Kim Giang, Quận Thanh ...    Quận Thanh Xuân   \n",
       "6      Đường Tây Sơn, Phường Trung Liệt, Quận Đống Đa...       Quận Đống Đa   \n",
       "...                                                  ...                ...   \n",
       "82491  Đường Hồ Tùng Mậu, Phường Phúc Diễn, Quận Bắc ...   Quận Bắc Từ Liêm   \n",
       "82492  Đường Trần Quốc Hoàn, Phường Quan Hoa, Quận Cầ...      Quận Cầu Giấy   \n",
       "82493  Đường Nguyễn Khánh Toàn, Phường Quan Hoa, Quận...      Quận Cầu Giấy   \n",
       "82494  Đường Quan Hoa, Phường Quan Hoa, Quận Cầu Giấy...      Quận Cầu Giấy   \n",
       "82495  Đường Hồ Tùng Mậu, Phường Mai Dịch, Quận Cầu G...      Quận Cầu Giấy   \n",
       "\n",
       "                   Huyện        Loại hình nhà ở Giấy tờ pháp lý  Số tầng  \\\n",
       "0        Phường Nghĩa Đô           Nhà ngõ, hẻm        Đã có sổ        4   \n",
       "1       Phường Kim Giang  Nhà mặt phố, mặt tiền             NaN        2   \n",
       "2       Phường Minh Khai           Nhà ngõ, hẻm        Đã có sổ        4   \n",
       "4       Phường Kim Giang           Nhà ngõ, hẻm             NaN        2   \n",
       "6      Phường Trung Liệt           Nhà ngõ, hẻm             NaN        2   \n",
       "...                  ...                    ...             ...      ...   \n",
       "82491   Phường Phúc Diễn        Nhà phố liền kề             NaN        2   \n",
       "82492    Phường Quan Hoa  Nhà mặt phố, mặt tiền             NaN        2   \n",
       "82493    Phường Quan Hoa  Nhà mặt phố, mặt tiền        Đã có sổ        2   \n",
       "82494    Phường Quan Hoa           Nhà ngõ, hẻm        Đã có sổ        2   \n",
       "82495    Phường Mai Dịch        Nhà phố liền kề             NaN        2   \n",
       "\n",
       "       Số phòng ngủ  Diện tích   Dài   Rộng           Giá/m2  \n",
       "0                 5       46.0   NaN    NaN   86,96 triệu/m²  \n",
       "1                 3       37.0   NaN    NaN  116,22 triệu/m²  \n",
       "2                 4       40.0  10 m    4 m      65 triệu/m²  \n",
       "4                 4       36.0   9 m    4 m   86,11 triệu/m²  \n",
       "6                 3       52.0   NaN  4.5 m   112,5 triệu/m²  \n",
       "...             ...        ...   ...    ...              ...  \n",
       "82491             3       38.0   NaN    NaN   81,58 triệu/m²  \n",
       "82492             3       50.0   NaN    NaN     292 triệu/m²  \n",
       "82493             4       41.0   NaN    NaN  341,46 triệu/m²  \n",
       "82494             4       60.0   NaN    NaN  101,67 triệu/m²  \n",
       "82495             4       45.0   NaN    NaN  102,22 triệu/m²  \n",
       "\n",
       "[67466 rows x 13 columns]"
      ]
     },
     "execution_count": 355,
     "metadata": {},
     "output_type": "execute_result"
    }
   ],
   "source": [
    "house"
   ]
  },
  {
   "cell_type": "code",
   "execution_count": 1,
   "id": "fdf7718a",
   "metadata": {},
   "outputs": [
    {
     "name": "stdout",
     "output_type": "stream",
     "text": [
      "hello\n"
     ]
    }
   ],
   "source": [
    "print('hello')"
   ]
  }
 ],
 "metadata": {
  "kernelspec": {
   "display_name": "Python 3 (ipykernel)",
   "language": "python",
   "name": "python3"
  },
  "language_info": {
   "codemirror_mode": {
    "name": "ipython",
    "version": 3
   },
   "file_extension": ".py",
   "mimetype": "text/x-python",
   "name": "python",
   "nbconvert_exporter": "python",
   "pygments_lexer": "ipython3",
   "version": "3.9.13"
  }
 },
 "nbformat": 4,
 "nbformat_minor": 5
}
